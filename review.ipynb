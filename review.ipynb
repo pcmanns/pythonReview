{
 "cells": [
  {
   "cell_type": "markdown",
   "id": "ae82c679",
   "metadata": {},
   "source": [
    "Write a Python function to calculate the factorial of a number.\n"
   ]
  },
  {
   "cell_type": "code",
   "execution_count": 2,
   "id": "85979442",
   "metadata": {},
   "outputs": [
    {
     "data": {
      "text/plain": [
       "720"
      ]
     },
     "execution_count": 2,
     "metadata": {},
     "output_type": "execute_result"
    }
   ],
   "source": [
    "def factorial(n): \n",
    "    p=1 \n",
    "    i=1 \n",
    "    while i<=n: \n",
    "       p= p*i \n",
    "       i+=1 \n",
    "    return p \n",
    "factorial(6)"
   ]
  },
  {
   "cell_type": "markdown",
   "id": "044e7b8b",
   "metadata": {},
   "source": [
    "Write a Python function to check if a number is prime.\n"
   ]
  },
  {
   "cell_type": "code",
   "execution_count": 16,
   "id": "26624d56",
   "metadata": {},
   "outputs": [
    {
     "name": "stdout",
     "output_type": "stream",
     "text": [
      "2\n",
      "3\n",
      "15  is Not a Prime Number!\n"
     ]
    }
   ],
   "source": [
    "from math import sqrt\n",
    "def prime(n):\n",
    "    flag = 0\n",
    "    if(n > 1):\n",
    "        for k in range(2, int(n/2) + 1):\n",
    "            if (n % k == 0):\n",
    "                flag = 1\n",
    "                break\n",
    "        \n",
    "        if (flag == 0):\n",
    "            print(n,\" is a Prime Number!\")\n",
    "        else:\n",
    "            print(n,\" is Not a Prime Number!\")\n",
    "    else:\n",
    "        print(n,\" is Not a Prime Number!\")\n",
    "\n",
    "prime(15)"
   ]
  },
  {
   "cell_type": "markdown",
   "id": "fa873087",
   "metadata": {},
   "source": [
    "Write a Python function to check if a string is a palindrome.\n"
   ]
  },
  {
   "cell_type": "code",
   "execution_count": 25,
   "id": "3a613473",
   "metadata": {},
   "outputs": [
    {
     "name": "stdout",
     "output_type": "stream",
     "text": [
      "Enter string: hell\n",
      "The string is not a palindrome.\n"
     ]
    }
   ],
   "source": [
    "def isPalindrome(string): \n",
    "    if(string==string[::-1]): \n",
    "        return\"The string is a palindrome.\" \n",
    "    else:\n",
    "        return\"The string is not a palindrome.\" \n",
    "\n",
    "string=input(\"Enter string: \") \n",
    " \n",
    "print(isPalindrome(string))"
   ]
  },
  {
   "cell_type": "markdown",
   "id": "95ed1726",
   "metadata": {},
   "source": [
    "Write a Python program to check if two strings are anagrams.\n"
   ]
  },
  {
   "cell_type": "code",
   "execution_count": 27,
   "id": "0ace5266",
   "metadata": {},
   "outputs": [
    {
     "name": "stdout",
     "output_type": "stream",
     "text": [
      "The strings aren't anagrams.\n"
     ]
    }
   ],
   "source": [
    "def check(s1, s2):\n",
    "    if(sorted(s1)== sorted(s2)):\n",
    "        print(\"The strings are anagrams.\")\n",
    "    else:\n",
    "        print(\"The strings are not anagrams.\")        \n",
    "\n",
    "s1 =\"listen\"\n",
    "s2 =\"silet\"\n",
    "check(s1, s2)"
   ]
  },
  {
   "cell_type": "markdown",
   "id": "7f83730e",
   "metadata": {},
   "source": [
    "Write a Python program to reverse a string.\n"
   ]
  },
  {
   "cell_type": "code",
   "execution_count": 28,
   "id": "6de486a1",
   "metadata": {},
   "outputs": [
    {
     "name": "stdout",
     "output_type": "stream",
     "text": [
      "tset a si siht\n"
     ]
    }
   ],
   "source": [
    "def reverse(s):\n",
    "    s = s[::-1]\n",
    "    return s\n",
    "print(reverse(\"this is a test\"))"
   ]
  },
  {
   "cell_type": "markdown",
   "id": "827ac330",
   "metadata": {},
   "source": [
    "Write a Python program to sort a list of integers.\n"
   ]
  },
  {
   "cell_type": "code",
   "execution_count": 29,
   "id": "17d78634",
   "metadata": {},
   "outputs": [
    {
     "data": {
      "text/plain": [
       "[1, 3, 4, 5, 7, 8, 9]"
      ]
     },
     "execution_count": 29,
     "metadata": {},
     "output_type": "execute_result"
    }
   ],
   "source": [
    "def sortList(l):\n",
    "    return sorted(l)\n",
    "l=[9,4,5,7,3,1,8]\n",
    "sortList(l)"
   ]
  },
  {
   "cell_type": "markdown",
   "id": "eb81fd2e",
   "metadata": {},
   "source": [
    "Write a Python program to find the common elements between two lists.\n"
   ]
  },
  {
   "cell_type": "code",
   "execution_count": 31,
   "id": "a97d0ce1",
   "metadata": {},
   "outputs": [
    {
     "name": "stdout",
     "output_type": "stream",
     "text": [
      "{4, 5}\n",
      "No common elements\n"
     ]
    }
   ],
   "source": [
    "def common_member(a, b):\n",
    "    a_set = set(a)\n",
    "    b_set = set(b)\n",
    " \n",
    "    if (a_set & b_set):\n",
    "        print(a_set & b_set)\n",
    "    else:\n",
    "        print(\"No common elements\")\n",
    "\n",
    "a = [1, 2, 3, 4, 5]\n",
    "b = [5, 6, 4, 8, 9]\n",
    "common_member(a, b)\n",
    "  \n",
    "a = [1, 2, 3, 4, 5]\n",
    "b = [6, 7, 8, 9]\n",
    "common_member(a, b)"
   ]
  },
  {
   "cell_type": "markdown",
   "id": "0d68ddb2",
   "metadata": {},
   "source": [
    "Write a Python function to find the maximum and minimum elements in a list.\n"
   ]
  },
  {
   "cell_type": "code",
   "execution_count": 32,
   "id": "10ab2142",
   "metadata": {},
   "outputs": [
    {
     "name": "stdout",
     "output_type": "stream",
     "text": [
      "(75, -5)\n"
     ]
    }
   ],
   "source": [
    "def max_min(data):\n",
    "    l = data[0]\n",
    "    s = data[0]\n",
    "    for num in data:\n",
    "        if num> l:\n",
    "            l = num\n",
    "        elif num< s:\n",
    "            s = num\n",
    "    return l, s\n",
    "print(max_min([0, 10, 15, 40, -5, 42, 17, 28, 75]))"
   ]
  },
  {
   "cell_type": "markdown",
   "id": "1c05a8b1",
   "metadata": {},
   "source": [
    "Write a Python program to remove duplicates from a list.\n"
   ]
  },
  {
   "cell_type": "code",
   "execution_count": 33,
   "id": "f79acaac",
   "metadata": {},
   "outputs": [
    {
     "name": "stdout",
     "output_type": "stream",
     "text": [
      "[2, 4, 10, 20, 5]\n"
     ]
    }
   ],
   "source": [
    "def Remove(duplicate):\n",
    "    final_list = []\n",
    "    for num in duplicate:\n",
    "        if num not in final_list:\n",
    "            final_list.append(num)\n",
    "    return final_list\n",
    "     \n",
    "\n",
    "duplicate = [2, 4, 10, 20, 5, 2, 20, 4]\n",
    "print(Remove(duplicate))"
   ]
  },
  {
   "cell_type": "markdown",
   "id": "15f2d33e",
   "metadata": {},
   "source": [
    "Write a Python program to find the second largest number in a list.\n"
   ]
  },
  {
   "cell_type": "code",
   "execution_count": 36,
   "id": "3481497a",
   "metadata": {},
   "outputs": [
    {
     "name": "stdout",
     "output_type": "stream",
     "text": [
      "Second highest number is :  45\n"
     ]
    }
   ],
   "source": [
    "list1 = [10, 20, 4, 45, 99]\n",
    " \n",
    "mx = max(list1[0], list1[1])\n",
    "secondmax = min(list1[0], list1[1])\n",
    "n = len(list1)\n",
    "for i in range(2,n):\n",
    "    if list1[i] > mx:\n",
    "        secondmax = mx\n",
    "        mx = list1[i]\n",
    "    elif list1[i] > secondmax and mx != list1[i]:\n",
    "        secondmax = list1[i]\n",
    "    elif mx == secondmax and secondmax != list1[i]:\n",
    "        secondmax = list1[i]\n",
    "\n",
    "print(\"Second highest number is : \",str(secondmax))"
   ]
  },
  {
   "cell_type": "markdown",
   "id": "f098b153",
   "metadata": {},
   "source": [
    "Write a Python program to calculate the average of a list of numbers.\n"
   ]
  },
  {
   "cell_type": "code",
   "execution_count": 37,
   "id": "72a94339",
   "metadata": {},
   "outputs": [
    {
     "name": "stdout",
     "output_type": "stream",
     "text": [
      "Average of the list = 35.75\n"
     ]
    }
   ],
   "source": [
    "def Average(lst):\n",
    "    return sum(lst) / len(lst)\n",
    " \n",
    "lst = [15, 9, 55, 41, 35, 20, 62, 49]\n",
    "average = Average(lst)\n",
    " \n",
    "print(\"Average of the list =\", round(average, 2))"
   ]
  },
  {
   "cell_type": "markdown",
   "id": "f16465b0",
   "metadata": {},
   "source": [
    "Write a Python function to check if a string is a valid IP address.\n"
   ]
  },
  {
   "cell_type": "code",
   "execution_count": 42,
   "id": "ab24f44f",
   "metadata": {},
   "outputs": [
    {
     "data": {
      "text/plain": [
       "True"
      ]
     },
     "execution_count": 42,
     "metadata": {},
     "output_type": "execute_result"
    }
   ],
   "source": [
    "def validate_ip(s):\n",
    "    a = s.split('.')\n",
    "    if len(a) != 4:\n",
    "        return False\n",
    "    for x in a:\n",
    "        if not x.isdigit():\n",
    "            return False\n",
    "        i = int(x)\n",
    "        if i < 0 or i > 255:\n",
    "            return False\n",
    "    return True\n",
    "validate_ip('127.0.0.1')"
   ]
  },
  {
   "cell_type": "markdown",
   "id": "26a9a100",
   "metadata": {},
   "source": [
    "Write a Python program to generate all permutations of a list.\n"
   ]
  },
  {
   "cell_type": "code",
   "execution_count": 43,
   "id": "5fdd7597",
   "metadata": {},
   "outputs": [
    {
     "name": "stdout",
     "output_type": "stream",
     "text": [
      "['1', '2', '3']\n",
      "['1', '3', '2']\n",
      "['2', '1', '3']\n",
      "['2', '3', '1']\n",
      "['3', '1', '2']\n",
      "['3', '2', '1']\n"
     ]
    }
   ],
   "source": [
    "def permutation(lst):\n",
    "    if len(lst) == 0:\n",
    "        return []\n",
    " \n",
    "    if len(lst) == 1:\n",
    "        return [lst]\n",
    " \n",
    "    l = [] # empty list\n",
    " \n",
    "    for i in range(len(lst)):\n",
    "        m = lst[i]\n",
    "        remLst = lst[:i] + lst[i+1:]\n",
    "        for p in permutation(remLst):\n",
    "            l.append([m] + p)\n",
    "    return l\n",
    "\n",
    "data = list('123')\n",
    "for p in permutation(data):\n",
    "    print (p)"
   ]
  },
  {
   "cell_type": "markdown",
   "id": "4c83c396",
   "metadata": {},
   "source": [
    "Write a Python function to check if a given year is a leap year.\n"
   ]
  },
  {
   "cell_type": "code",
   "execution_count": 45,
   "id": "aaa1f64b",
   "metadata": {},
   "outputs": [
    {
     "name": "stdout",
     "output_type": "stream",
     "text": [
      "Enter the number: 2200\n",
      "Given Year is not a leap Year\n"
     ]
    }
   ],
   "source": [
    "def CheckLeap(Year):  \n",
    "    if((Year % 400 == 0) or (Year % 100 != 0) and (Year % 4 == 0)):   \n",
    "        print(\"Given Year is a leap Year\");  \n",
    "    else:  \n",
    "        print (\"Given Year is not a leap Year\")  \n",
    "\n",
    "Year = int(input(\"Enter the number: \"))\n",
    "CheckLeap(Year) "
   ]
  },
  {
   "cell_type": "markdown",
   "id": "3edbca27",
   "metadata": {},
   "source": [
    "Write a Python program to find the most frequent element in a list."
   ]
  },
  {
   "cell_type": "code",
   "execution_count": 46,
   "id": "770bfe88",
   "metadata": {},
   "outputs": [
    {
     "name": "stdout",
     "output_type": "stream",
     "text": [
      "2\n"
     ]
    }
   ],
   "source": [
    "def most_frequent(List):\n",
    "    counter = 0\n",
    "    num = List[0]\n",
    "     \n",
    "    for i in List:\n",
    "        curr_frequency = List.count(i)\n",
    "        if(curr_frequency> counter):\n",
    "            counter = curr_frequency\n",
    "            num = i\n",
    " \n",
    "    return num\n",
    " \n",
    "List = [2, 1, 2, 2, 1, 3]\n",
    "print(most_frequent(List))"
   ]
  },
  {
   "cell_type": "code",
   "execution_count": null,
   "id": "eba17ab1",
   "metadata": {},
   "outputs": [],
   "source": []
  }
 ],
 "metadata": {
  "kernelspec": {
   "display_name": "Python 3 (ipykernel)",
   "language": "python",
   "name": "python3"
  },
  "language_info": {
   "codemirror_mode": {
    "name": "ipython",
    "version": 3
   },
   "file_extension": ".py",
   "mimetype": "text/x-python",
   "name": "python",
   "nbconvert_exporter": "python",
   "pygments_lexer": "ipython3",
   "version": "3.9.13"
  }
 },
 "nbformat": 4,
 "nbformat_minor": 5
}
